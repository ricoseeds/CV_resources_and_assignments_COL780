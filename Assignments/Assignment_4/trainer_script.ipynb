{
 "cells": [
  {
   "cell_type": "code",
   "execution_count": 1,
   "metadata": {},
   "outputs": [],
   "source": [
    "from __future__ import print_function, division\n",
    "import torch\n",
    "torch.manual_seed(0)\n",
    "import torch.nn as nn\n",
    "import torch.optim as optim\n",
    "from torch.optim import lr_scheduler\n",
    "import torchvision.transforms as transforms\n",
    "import numpy as np\n",
    "np.random.seed(0)\n",
    "import torchvision\n",
    "\n",
    "from torchvision import datasets, models, transforms\n",
    "import matplotlib.pyplot as plt\n",
    "import time\n",
    "import os\n",
    "import copy\n",
    "\n",
    "plt.ion() "
   ]
  },
  {
   "cell_type": "code",
   "execution_count": 2,
   "metadata": {},
   "outputs": [
    {
     "name": "stdout",
     "output_type": "stream",
     "text": [
      "2997\n",
      "173\n",
      "['next', 'prev', 'stop']\n"
     ]
    },
    {
     "data": {
      "text/plain": [
       "173"
      ]
     },
     "execution_count": 2,
     "metadata": {},
     "output_type": "execute_result"
    }
   ],
   "source": [
    "data_dir = '/Users/arghachakraborty/Projects/CV_assignments/data/train_last'\n",
    "data_dir_test = '/Users/arghachakraborty/Projects/CV_assignments/data/test'\n",
    "def load_split_train_test(datadir, valid_size = .2):\n",
    "    train_transforms = transforms.Compose([\n",
    "                                       transforms.ToTensor()\n",
    "                                       ])\n",
    "    test_transforms = transforms.Compose([\n",
    "                                      transforms.ToTensor()\n",
    "                                      ])\n",
    "    train_data = datasets.ImageFolder(datadir,       \n",
    "                    transform=train_transforms)\n",
    "    test_data = datasets.ImageFolder(datadir,\n",
    "                    transform=test_transforms)\n",
    "    num_train = len(train_data)\n",
    "    print(num_train)\n",
    "    indices = list(range(num_train))\n",
    "    split = int(np.floor(valid_size * num_train))\n",
    "    np.random.shuffle(indices)\n",
    "    from torch.utils.data.sampler import SubsetRandomSampler\n",
    "    train_idx, test_idx = indices[split:], indices[:split]\n",
    "    train_sampler = SubsetRandomSampler(train_idx)\n",
    "    test_sampler = SubsetRandomSampler(test_idx)\n",
    "    trainloader = torch.utils.data.DataLoader(train_data,\n",
    "                   sampler=train_sampler, batch_size=8)\n",
    "    testloader = torch.utils.data.DataLoader(test_data,\n",
    "                   sampler=test_sampler, batch_size=8)\n",
    "    return trainloader, testloader, num_train\n",
    "trainloader, testloader, num_train_data_set = load_split_train_test(data_dir, .2)\n",
    "_, testloader2, num_train_data_set2 = load_split_train_test(data_dir_test, .9)\n",
    "print(trainloader.dataset.classes)\n",
    "classes = trainloader.dataset.classes\n",
    "num_train_data_set2"
   ]
  },
  {
   "cell_type": "code",
   "execution_count": null,
   "metadata": {},
   "outputs": [],
   "source": []
  },
  {
   "cell_type": "code",
   "execution_count": 3,
   "metadata": {},
   "outputs": [
    {
     "data": {
      "image/png": "[encoded data removed]",
      "text/plain": [
       "<Figure size 432x288 with 1 Axes>"
      ]
     },
     "metadata": {
      "needs_background": "light"
     },
     "output_type": "display_data"
    },
    {
     "name": "stdout",
     "output_type": "stream",
     "text": [
      " stop  stop  stop  prev  prev  next  prev  stop\n"
     ]
    }
   ],
   "source": [
    "import matplotlib.pyplot as plt\n",
    "\n",
    "\n",
    "# functions to show an image\n",
    "\n",
    "\n",
    "def imshow(img):\n",
    "    img = img / 2 + 0.5     # unnormalize\n",
    "    npimg = img.numpy()\n",
    "    plt.imshow(np.transpose(npimg, (1, 2, 0)))\n",
    "    plt.show()\n",
    "\n",
    "\n",
    "# get some random training images\n",
    "dataiter = iter(trainloader)\n",
    "images, labels = dataiter.next()\n",
    "\n",
    "# show images\n",
    "imshow(torchvision.utils.make_grid(images))\n",
    "# print labels\n",
    "print(' '.join('%5s' % classes[labels[j]] for j in range(8)))"
   ]
  },
  {
   "cell_type": "code",
   "execution_count": 4,
   "metadata": {},
   "outputs": [
    {
     "data": {
      "text/plain": [
       "Net(\n",
       "  (conv1): Conv2d(3, 8, kernel_size=(3, 3), stride=(1, 1))\n",
       "  (conv2): Conv2d(8, 16, kernel_size=(3, 3), stride=(1, 1))\n",
       "  (pool): MaxPool2d(kernel_size=2, stride=2, padding=0, dilation=1, ceil_mode=False)\n",
       "  (fc1): Linear(in_features=1936, out_features=256, bias=True)\n",
       "  (fc2): Linear(in_features=256, out_features=20, bias=True)\n",
       "  (fc3): Linear(in_features=20, out_features=3, bias=True)\n",
       "  (dropout): Dropout(p=0.2, inplace=False)\n",
       ")"
      ]
     },
     "execution_count": 4,
     "metadata": {},
     "output_type": "execute_result"
    }
   ],
   "source": [
    "import torch.nn as nn\n",
    "import torch.nn.functional as F\n",
    "\n",
    "\n",
    "\n",
    "class Net(nn.Module):\n",
    "    def __init__(self):\n",
    "        torch.manual_seed(0)\n",
    "        np.random.seed(0)\n",
    "        super(Net, self).__init__()\n",
    "        self.conv1 = nn.Conv2d(3, 8, 3)\n",
    "        self.conv2 = nn.Conv2d(8, 16, 3)\n",
    "        self.pool = nn.MaxPool2d(2, 2)\n",
    "        self.fc1 = nn.Linear(1936, 256)\n",
    "        self.fc2 = nn.Linear(256, 20)\n",
    "        self.fc3 = nn.Linear(20, 3)\n",
    "        self.dropout = nn.Dropout(p = 0.2)\n",
    "\n",
    "    def forward(self, x):\n",
    "        x = self.pool(F.relu(self.conv1(x)))\n",
    "        x = self.pool(F.relu(self.conv2(x)))\n",
    "        x = x.view(-1, 1936)\n",
    "        x = F.relu(self.fc1(x))\n",
    "        x = F.relu(self.fc2(x))\n",
    "        x = self.fc3(x)\n",
    "        return x\n",
    "\n",
    "\n",
    "#print(c1.shape())\n",
    "\n",
    "\n",
    "net = Net()\n",
    "net"
   ]
  },
  {
   "cell_type": "code",
   "execution_count": 5,
   "metadata": {},
   "outputs": [],
   "source": [
    "import torch.optim as optim\n",
    "\n",
    "criterion = nn.CrossEntropyLoss()\n",
    "optimizer = optim.Adam(net.parameters(), lr=0.001 )"
   ]
  },
  {
   "cell_type": "code",
   "execution_count": null,
   "metadata": {},
   "outputs": [],
   "source": []
  },
  {
   "cell_type": "code",
   "execution_count": 6,
   "metadata": {},
   "outputs": [
    {
     "name": "stdout",
     "output_type": "stream",
     "text": [
      "[1,    20] loss: 1.103Test Acc: 45 %Validation acc: 52 %\n",
      "[1,    40] loss: 1.089Test Acc: 46 %Validation acc: 57 %\n",
      "[1,    60] loss: 1.013Test Acc: 30 %Validation acc: 51 %\n",
      "[1,    80] loss: 0.963Test Acc: 24 %Validation acc: 46 %\n",
      "[1,   100] loss: 0.999Test Acc: 32 %Validation acc: 53 %\n",
      "[1,   120] loss: 0.895Test Acc: 43 %Validation acc: 68 %\n",
      "[1,   140] loss: 0.803Test Acc: 60 %Validation acc: 71 %\n",
      "[1,   160] loss: 0.650Test Acc: 52 %Validation acc: 78 %\n",
      "[1,   180] loss: 0.599Test Acc: 69 %Validation acc: 82 %\n",
      "[1,   200] loss: 0.509Test Acc: 69 %Validation acc: 86 %\n",
      "[1,   220] loss: 0.358Test Acc: 74 %Validation acc: 89 %\n",
      "[1,   240] loss: 0.386Test Acc: 66 %Validation acc: 83 %\n",
      "[1,   260] loss: 0.300Test Acc: 76 %Validation acc: 89 %\n",
      "[1,   280] loss: 0.306Test Acc: 81 %Validation acc: 93 %\n",
      "[1,   300] loss: 0.217Test Acc: 76 %Validation acc: 93 %\n",
      "[2,    20] loss: 0.204Test Acc: 77 %Validation acc: 90 %\n",
      "[2,    40] loss: 0.197Test Acc: 77 %Validation acc: 92 %\n",
      "[2,    60] loss: 0.184Test Acc: 78 %Validation acc: 89 %\n",
      "[2,    80] loss: 0.183Test Acc: 84 %Validation acc: 94 %\n",
      "[2,   100] loss: 0.178Test Acc: 94 %Validation acc: 94 %\n",
      "[2,   120] loss: 0.096Test Acc: 92 %Validation acc: 96 %\n",
      "[2,   140] loss: 0.107Test Acc: 88 %Validation acc: 95 %\n",
      "[2,   160] loss: 0.077Test Acc: 96 %Validation acc: 96 %\n",
      "[2,   180] loss: 0.105Test Acc: 94 %Validation acc: 95 %\n",
      "[2,   200] loss: 0.300Test Acc: 83 %Validation acc: 96 %\n",
      "[2,   220] loss: 0.149Test Acc: 80 %Validation acc: 94 %\n",
      "[2,   240] loss: 0.116Test Acc: 97 %Validation acc: 95 %\n",
      "[2,   260] loss: 0.098Test Acc: 92 %Validation acc: 96 %\n",
      "[2,   280] loss: 0.088Test Acc: 83 %Validation acc: 95 %\n",
      "[2,   300] loss: 0.098Test Acc: 90 %Validation acc: 93 %\n",
      "[3,    20] loss: 0.055Test Acc: 86 %Validation acc: 94 %\n",
      "[3,    40] loss: 0.053Test Acc: 96 %Validation acc: 97 %\n",
      "[3,    60] loss: 0.071Test Acc: 92 %Validation acc: 95 %\n",
      "[3,    80] loss: 0.043Test Acc: 96 %Validation acc: 97 %\n",
      "[3,   100] loss: 0.095Test Acc: 86 %Validation acc: 91 %\n",
      "[3,   120] loss: 0.041Test Acc: 87 %Validation acc: 97 %\n",
      "[3,   140] loss: 0.057Test Acc: 98 %Validation acc: 96 %\n",
      "[3,   160] loss: 0.060Test Acc: 97 %Validation acc: 97 %\n",
      "[3,   180] loss: 0.075Test Acc: 98 %Validation acc: 96 %\n",
      "[3,   200] loss: 0.186Test Acc: 89 %Validation acc: 96 %\n",
      "[3,   220] loss: 0.048Test Acc: 98 %Validation acc: 98 %\n",
      "[3,   240] loss: 0.050Test Acc: 98 %Validation acc: 97 %\n",
      "[3,   260] loss: 0.019Test Acc: 98 %Validation acc: 97 %\n",
      "[3,   280] loss: 0.029Test Acc: 98 %Validation acc: 98 %\n",
      "[3,   300] loss: 0.087Test Acc: 93 %Validation acc: 96 %\n",
      "[4,    20] loss: 0.079Test Acc: 96 %Validation acc: 97 %\n",
      "[4,    40] loss: 0.019Test Acc: 98 %Validation acc: 97 %\n",
      "[4,    60] loss: 0.015Test Acc: 98 %Validation acc: 98 %\n",
      "[4,    80] loss: 0.016Test Acc: 94 %Validation acc: 97 %\n",
      "[4,   100] loss: 0.017Test Acc: 92 %Validation acc: 98 %\n",
      "[4,   120] loss: 0.013Test Acc: 96 %Validation acc: 98 %\n",
      "[4,   140] loss: 0.065Test Acc: 95 %Validation acc: 97 %\n",
      "[4,   160] loss: 0.027Test Acc: 92 %Validation acc: 98 %\n",
      "[4,   180] loss: 0.048Test Acc: 97 %Validation acc: 97 %\n",
      "[4,   200] loss: 0.015Test Acc: 98 %Validation acc: 98 %\n",
      "[4,   220] loss: 0.039Test Acc: 100 %Validation acc: 97 %\n",
      "[4,   240] loss: 0.037Test Acc: 100 %Validation acc: 97 %\n",
      "[4,   260] loss: 0.035Test Acc: 96 %Validation acc: 99 %\n",
      "[4,   280] loss: 0.013Test Acc: 98 %Validation acc: 99 %\n",
      "[4,   300] loss: 0.018Test Acc: 98 %Validation acc: 98 %\n",
      "[5,    20] loss: 0.016Test Acc: 98 %Validation acc: 98 %\n",
      "[5,    40] loss: 0.009Test Acc: 100 %Validation acc: 98 %\n",
      "[5,    60] loss: 0.011Test Acc: 100 %Validation acc: 99 %\n",
      "[5,    80] loss: 0.007Test Acc: 100 %Validation acc: 98 %\n",
      "[5,   100] loss: 0.003Test Acc: 100 %Validation acc: 99 %\n",
      "[5,   120] loss: 0.005Test Acc: 97 %Validation acc: 99 %\n",
      "[5,   140] loss: 0.005Test Acc: 96 %Validation acc: 98 %\n",
      "[5,   160] loss: 0.017Test Acc: 99 %Validation acc: 98 %\n",
      "[5,   180] loss: 0.014Test Acc: 96 %Validation acc: 99 %\n",
      "[5,   200] loss: 0.010Test Acc: 98 %Validation acc: 99 %\n",
      "[5,   220] loss: 0.008Test Acc: 98 %Validation acc: 98 %\n",
      "[5,   240] loss: 0.037Test Acc: 100 %Validation acc: 98 %\n",
      "[5,   260] loss: 0.078Test Acc: 92 %Validation acc: 94 %\n",
      "[5,   280] loss: 0.086Test Acc: 76 %Validation acc: 93 %\n",
      "[5,   300] loss: 0.096Test Acc: 96 %Validation acc: 96 %\n",
      "[6,    20] loss: 0.032Test Acc: 99 %Validation acc: 97 %\n",
      "[6,    40] loss: 0.055Test Acc: 98 %Validation acc: 98 %\n",
      "[6,    60] loss: 0.017Test Acc: 100 %Validation acc: 98 %\n",
      "[6,    80] loss: 0.015Test Acc: 99 %Validation acc: 98 %\n",
      "[6,   100] loss: 0.006Test Acc: 100 %Validation acc: 98 %\n",
      "[6,   120] loss: 0.005Test Acc: 100 %Validation acc: 99 %\n",
      "[6,   140] loss: 0.002Test Acc: 100 %Validation acc: 99 %\n",
      "[6,   160] loss: 0.003Test Acc: 100 %Validation acc: 99 %\n",
      "[6,   180] loss: 0.011Test Acc: 100 %Validation acc: 99 %\n",
      "[6,   200] loss: 0.038Test Acc: 99 %Validation acc: 98 %\n",
      "[6,   220] loss: 0.006Test Acc: 99 %Validation acc: 99 %\n",
      "[6,   240] loss: 0.003Test Acc: 100 %Validation acc: 99 %\n",
      "[6,   260] loss: 0.005Test Acc: 100 %Validation acc: 99 %\n",
      "[6,   280] loss: 0.003Test Acc: 99 %Validation acc: 99 %\n",
      "[6,   300] loss: 0.004Test Acc: 100 %Validation acc: 98 %\n",
      "Finished Training\n"
     ]
    }
   ],
   "source": [
    "for epoch in range(6):  # loop over the dataset multiple times\n",
    "    running_loss = 0.0\n",
    "    #loss_values = []\n",
    "    for i, data in enumerate(trainloader, 0):\n",
    "        # get the inputs; data is a list of [inputs, labels]\n",
    "        inputs, labels = data\n",
    "\n",
    "        # zero the parameter gradients\n",
    "        optimizer.zero_grad()\n",
    "\n",
    "        # forward + backward + optimize\n",
    "        outputs = net(inputs)\n",
    "        loss = criterion(outputs, labels)\n",
    "        loss.backward()\n",
    "        optimizer.step()\n",
    "\n",
    "        # print statistics\n",
    "        running_loss += loss.item()\n",
    "        #loss_values.append(running_loss/num_train_data_set)\n",
    "        if i % 20 == 19:    # print every 2000 mini-batches\n",
    "            print('[%d, %5d] loss: %.3f' %(epoch + 1, i + 1, running_loss / 20),end=\"\")\n",
    "            running_loss = 0.0\n",
    "            correct2 = 0\n",
    "            total2 = 0\n",
    "            with torch.no_grad():\n",
    "                for data in testloader2:\n",
    "                    images, labels = data\n",
    "                    outputs = net(images)\n",
    "                    _, predicted = torch.max(outputs.data, 1)\n",
    "                    total2 += labels.size(0)\n",
    "                    correct2 += (predicted == labels).sum().item()\n",
    "\n",
    "            print('Test Acc: %d %%' % (100 * correct2 / total2),end=\"\")\n",
    "            correct = 0\n",
    "            total = 0\n",
    "            with torch.no_grad():\n",
    "                for data in testloader:\n",
    "                    images, labels = data\n",
    "                    outputs = net(images)\n",
    "                    _, predicted = torch.max(outputs.data, 1)\n",
    "                    total += labels.size(0)\n",
    "                    correct += (predicted == labels).sum().item()\n",
    "\n",
    "            print('Validation acc: %d %%' % (100 * correct / total))\n",
    "    \n",
    "\n",
    "\n",
    "print('Finished Training')"
   ]
  },
  {
   "cell_type": "code",
   "execution_count": 17,
   "metadata": {},
   "outputs": [],
   "source": [
    "PATH = './trained_smart2.pth'\n",
    "torch.save(net.state_dict(), PATH)"
   ]
  },
  {
   "cell_type": "code",
   "execution_count": 18,
   "metadata": {},
   "outputs": [
    {
     "data": {
      "image/png": "[encoded data removed]",
      "text/plain": [
       "<Figure size 432x288 with 1 Axes>"
      ]
     },
     "metadata": {
      "needs_background": "light"
     },
     "output_type": "display_data"
    },
    {
     "name": "stdout",
     "output_type": "stream",
     "text": [
      "GroundTruth:   prev  stop  next  next\n"
     ]
    }
   ],
   "source": [
    "dataiter2 = iter(testloader2)\n",
    "images2, labels2 = dataiter2.next()\n",
    "\n",
    "# print images\n",
    "imshow(torchvision.utils.make_grid(images2))\n",
    "print('GroundTruth: ', ' '.join('%5s' % classes[labels2[j]] for j in range(4)))"
   ]
  },
  {
   "cell_type": "code",
   "execution_count": 19,
   "metadata": {
    "scrolled": true
   },
   "outputs": [
    {
     "data": {
      "image/png": "[encoded data removed]",
      "text/plain": [
       "<Figure size 432x288 with 1 Axes>"
      ]
     },
     "metadata": {
      "needs_background": "light"
     },
     "output_type": "display_data"
    },
    {
     "name": "stdout",
     "output_type": "stream",
     "text": [
      "GroundTruth:   next  next  stop  prev\n"
     ]
    }
   ],
   "source": [
    "dataiter = iter(testloader)\n",
    "images, labels = dataiter.next()\n",
    "\n",
    "# print images\n",
    "imshow(torchvision.utils.make_grid(images))\n",
    "print('GroundTruth: ', ' '.join('%5s' % classes[labels[j]] for j in range(4)))"
   ]
  },
  {
   "cell_type": "code",
   "execution_count": 20,
   "metadata": {},
   "outputs": [
    {
     "data": {
      "text/plain": [
       "Net(\n",
       "  (conv1): Conv2d(3, 8, kernel_size=(3, 3), stride=(1, 1))\n",
       "  (conv2): Conv2d(8, 16, kernel_size=(3, 3), stride=(1, 1))\n",
       "  (pool): MaxPool2d(kernel_size=2, stride=2, padding=0, dilation=1, ceil_mode=False)\n",
       "  (fc1): Linear(in_features=1936, out_features=256, bias=True)\n",
       "  (fc2): Linear(in_features=256, out_features=20, bias=True)\n",
       "  (fc3): Linear(in_features=20, out_features=3, bias=True)\n",
       "  (dropout): Dropout(p=0.2, inplace=False)\n",
       ")"
      ]
     },
     "execution_count": 20,
     "metadata": {},
     "output_type": "execute_result"
    }
   ],
   "source": [
    "net = Net()\n",
    "net.load_state_dict(torch.load(PATH))\n",
    "net.eval()"
   ]
  },
  {
   "cell_type": "code",
   "execution_count": 21,
   "metadata": {},
   "outputs": [],
   "source": [
    "outputs2 = net(images2)\n",
    "_, predicted2 = torch.max(outputs2, 1)"
   ]
  },
  {
   "cell_type": "code",
   "execution_count": 22,
   "metadata": {},
   "outputs": [],
   "source": [
    "outputs = net(images)\n",
    "_, predicted = torch.max(outputs, 1)"
   ]
  },
  {
   "cell_type": "code",
   "execution_count": 23,
   "metadata": {},
   "outputs": [
    {
     "name": "stdout",
     "output_type": "stream",
     "text": [
      "Predicted:   prev  stop  next  next\n"
     ]
    }
   ],
   "source": [
    "print('Predicted: ', ' '.join('%5s' % classes[predicted2[j]]\n",
    "                              for j in range(4)))"
   ]
  },
  {
   "cell_type": "code",
   "execution_count": 24,
   "metadata": {},
   "outputs": [
    {
     "name": "stdout",
     "output_type": "stream",
     "text": [
      "Predicted:   next  next  stop  prev\n"
     ]
    }
   ],
   "source": [
    "print('Predicted: ', ' '.join('%5s' % classes[predicted[j]]\n",
    "                              for j in range(4)))"
   ]
  },
  {
   "cell_type": "code",
   "execution_count": 25,
   "metadata": {},
   "outputs": [
    {
     "name": "stdout",
     "output_type": "stream",
     "text": [
      "Accuracy of the network on the  test images: 100 %\n",
      "155\n",
      "155\n"
     ]
    }
   ],
   "source": [
    "correct2 = 0\n",
    "total2 = 0\n",
    "with torch.no_grad():\n",
    "    for data in testloader2:\n",
    "        images, labels = data\n",
    "        outputs = net(images)\n",
    "        _, predicted = torch.max(outputs.data, 1)\n",
    "        total2 += labels.size(0)\n",
    "        correct2 += (predicted == labels).sum().item()\n",
    "\n",
    "print('Accuracy of the network on the  test images: %d %%' % (\n",
    "    100 * correct2 / total2))\n",
    "print(correct2)\n",
    "print(total2)"
   ]
  },
  {
   "cell_type": "code",
   "execution_count": 26,
   "metadata": {},
   "outputs": [
    {
     "name": "stdout",
     "output_type": "stream",
     "text": [
      "Accuracy of the network on the  test images: 98 %\n",
      "592\n",
      "599\n"
     ]
    }
   ],
   "source": [
    "correct = 0\n",
    "total = 0\n",
    "with torch.no_grad():\n",
    "    for data in testloader:\n",
    "        images, labels = data\n",
    "        outputs = net(images)\n",
    "        _, predicted = torch.max(outputs.data, 1)\n",
    "        total += labels.size(0)\n",
    "        correct += (predicted == labels).sum().item()\n",
    "\n",
    "print('Accuracy of the network on the  test images: %d %%' % (\n",
    "    100 * correct / total))\n",
    "print(correct)\n",
    "print(total)"
   ]
  },
  {
   "cell_type": "code",
   "execution_count": null,
   "metadata": {},
   "outputs": [],
   "source": []
  },
  {
   "cell_type": "code",
   "execution_count": null,
   "metadata": {},
   "outputs": [],
   "source": []
  }
 ],
 "metadata": {
  "kernelspec": {
   "display_name": "Python 3",
   "language": "python",
   "name": "python3"
  },
  "language_info": {
   "codemirror_mode": {
    "name": "ipython",
    "version": 3
   },
   "file_extension": ".py",
   "mimetype": "text/x-python",
   "name": "python",
   "nbconvert_exporter": "python",
   "pygments_lexer": "ipython3",
   "version": "3.7.4"
  }
 },
 "nbformat": 4,
 "nbformat_minor": 2
}
